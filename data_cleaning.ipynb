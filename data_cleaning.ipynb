{
 "cells": [
  {
   "cell_type": "code",
   "id": "initial_id",
   "metadata": {
    "collapsed": true,
    "ExecuteTime": {
     "end_time": "2025-04-11T19:31:24.262668Z",
     "start_time": "2025-04-11T19:31:21.868744Z"
    }
   },
   "source": [
    "import pandas as pd\n",
    "\n",
    "df = pd.read_csv('allergen_synonyms.csv')\n",
    "df.sort_values(by=['Name'], ascending=True, inplace=True)\n",
    "\n",
    "#print(df.head())\n",
    "#print(df.tail())\n",
    "#print(df.shape)\n",
    "\n",
    "print(list(df.Name))"
   ],
   "outputs": [
    {
     "name": "stdout",
     "output_type": "stream",
     "text": [
      "['Alpha-Tocopherol', 'Alpha-Tocopherol-Acetate', 'Amidoamine', 'Bacitracin', 'Balsam of Peru', 'Balsam of Peru', 'Benzalkonium Chloride', 'Benzocaine', 'Black Rubber Mix', 'Bromo-2-Nitropropaine-1,3 Diol', 'Budesonide', 'Carba Mix', 'Chloroxylenol (PCMX)', 'Cinnamic Aldehyde', 'Cobalt Dichloride', 'Cocamindopropyl Betaine', 'Coconut Diethanolamide', 'Colophony', 'DMDM Hydantoin', 'Diazolidinyl Urea', 'Dibucaine hydrochloride', 'Dimethylol Dihydroxyethylene Urea', 'Epoxy Resin', 'Ethyl Acrylate', 'Ethylene Urea', 'Ethylenediamine Dihydrochloride (EDD)', 'Euxyl K400', 'Formaldehyde', 'Formaldehyde', 'Fragrance Mix', 'Glutaraldehyde', 'Glyceryl Thioglycolate', 'Gold Sodium Thiosulfate', 'Hydrocortisone-17-Butyrate', 'Hydroxy-4-Methoxybenzophenone', 'Imidazolidnyl Urea', 'Iodopropyl Butylcarbamate', 'Jasmine Absolute', 'Lanolin Alcohol', 'Lidocaine', 'Mercapto Mix', 'Mercaptobenzothiazole', 'Methyl Methacrylate', 'Methylchloroisothiazolinone', 'Methyldibromoglutaronitrile / Phenoxyethanol', 'Methylisothiazolinone', 'Mixed Dialkyl Thiourea', 'Neomycin', 'Neomycin Sulfate', 'Nickel', 'Nickel Sulfate Hexahydrate', 'P-phenylenediamine (PPD)', 'P-tert-Butylphenol Formaldehyde Resin', 'Paraben Mix', 'Phenoxyethanol', 'Potassium Dichromate', 'Prilocaine Hydrochloride', 'Propylene Glycol', 'Quaternium-15', 'Tetracaine Hydrochloride', 'Thimerosal', 'Thiuram Mix', 'Tixocortal-21-Pivalate', 'Toluenesulfonamide Fluoraldehyde Resin', 'Wool Alchohol', 'Ylang Ylang Oil']\n"
     ]
    }
   ],
   "execution_count": 1
  },
  {
   "metadata": {
    "ExecuteTime": {
     "end_time": "2025-04-11T19:31:52.935732Z",
     "start_time": "2025-04-11T19:31:52.931707Z"
    }
   },
   "cell_type": "code",
   "source": "df.head(1)\n",
   "id": "6defbd50b73fda9a",
   "outputs": [
    {
     "data": {
      "text/plain": [
       "               Name                                           Synonyms\n",
       "0  Alpha-Tocopherol  Alpha-tocopherol, d-alpha-tocopheryl acetate, ..."
      ],
      "text/html": [
       "<div>\n",
       "<style scoped>\n",
       "    .dataframe tbody tr th:only-of-type {\n",
       "        vertical-align: middle;\n",
       "    }\n",
       "\n",
       "    .dataframe tbody tr th {\n",
       "        vertical-align: top;\n",
       "    }\n",
       "\n",
       "    .dataframe thead th {\n",
       "        text-align: right;\n",
       "    }\n",
       "</style>\n",
       "<table border=\"1\" class=\"dataframe\">\n",
       "  <thead>\n",
       "    <tr style=\"text-align: right;\">\n",
       "      <th></th>\n",
       "      <th>Name</th>\n",
       "      <th>Synonyms</th>\n",
       "    </tr>\n",
       "  </thead>\n",
       "  <tbody>\n",
       "    <tr>\n",
       "      <th>0</th>\n",
       "      <td>Alpha-Tocopherol</td>\n",
       "      <td>Alpha-tocopherol, d-alpha-tocopheryl acetate, ...</td>\n",
       "    </tr>\n",
       "  </tbody>\n",
       "</table>\n",
       "</div>"
      ]
     },
     "execution_count": 3,
     "metadata": {},
     "output_type": "execute_result"
    }
   ],
   "execution_count": 3
  }
 ],
 "metadata": {
  "kernelspec": {
   "display_name": "Python 3",
   "language": "python",
   "name": "python3"
  },
  "language_info": {
   "codemirror_mode": {
    "name": "ipython",
    "version": 2
   },
   "file_extension": ".py",
   "mimetype": "text/x-python",
   "name": "python",
   "nbconvert_exporter": "python",
   "pygments_lexer": "ipython2",
   "version": "2.7.6"
  }
 },
 "nbformat": 4,
 "nbformat_minor": 5
}
