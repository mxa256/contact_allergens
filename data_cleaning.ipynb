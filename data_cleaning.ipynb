{
 "cells": [
  {
   "cell_type": "code",
   "id": "initial_id",
   "metadata": {
    "collapsed": true,
    "ExecuteTime": {
     "end_time": "2025-04-13T01:50:43.184939Z",
     "start_time": "2025-04-13T01:50:43.178637Z"
    }
   },
   "source": [
    "import pandas as pd\n",
    "import re\n",
    "\n",
    "import re\n",
    "\n",
    "#Split only on commas + space\n",
    "def smart_split(text):\n",
    "    return [i.strip() for i in re.split(r',\\s+', text)]\n",
    "\n",
    "allergens = pd.read_csv('allergens/allergen_synonyms.csv', sep=';', engine='python')\n",
    "allergens.sort_values(by=['Name'], ascending=True, inplace=True)\n",
    "\n",
    "print(list(allergens.Name))"
   ],
   "outputs": [
    {
     "name": "stdout",
     "output_type": "stream",
     "text": [
      "['Alpha-Tocopherol', 'Alpha-Tocopherol-Acetate', 'Amidoamine', 'Bacitracin', 'Balsam of Peru', 'Balsam of Peru', 'Benzalkonium Chloride', 'Benzocaine', 'Black Rubber Mix', 'Bromo-2-Nitropropaine-1,3 Diol', 'Budesonide', 'Carba Mix', 'Chloroxylenol (PCMX)', 'Cinnamic Aldehyde', 'Cobalt Dichloride', 'Cocamindopropyl Betaine', 'Coconut Diethanolamide', 'Colophony', 'DMDM Hydantoin', 'Diazolidinyl Urea', 'Dibucaine hydrochloride', 'Dimethylol Dihydroxyethylene Urea', 'Epoxy Resin', 'Ethyl Acrylate', 'Ethylene Urea', 'Ethylenediamine Dihydrochloride (EDD)', 'Euxyl K400', 'Formaldehyde', 'Formaldehyde', 'Fragrance Mix', 'Glutaraldehyde', 'Glyceryl Thioglycolate', 'Gold Sodium Thiosulfate', 'Hydrocortisone-17-Butyrate', 'Hydroxy-4-Methoxybenzophenone', 'Imidazolidnyl Urea', 'Iodopropyl Butylcarbamate', 'Jasmine Absolute', 'Lanolin Alcohol', 'Lidocaine', 'Mercapto Mix', 'Mercaptobenzothiazole', 'Methyl Methacrylate', 'Methylchloroisothiazolinone', 'Methyldibromoglutaronitrile / Phenoxyethanol', 'Methylisothiazolinone', 'Mixed Dialkyl Thiourea', 'Neomycin', 'Neomycin Sulfate', 'Nickel', 'Nickel Sulfate Hexahydrate', 'P-phenylenediamine (PPD)', 'P-tert-Butylphenol Formaldehyde Resin', 'Paraben Mix', 'Phenoxyethanol', 'Potassium Dichromate', 'Prilocaine Hydrochloride', 'Propylene Glycol', 'Quaternium-15', 'Tetracaine Hydrochloride', 'Thimerosal', 'Thiuram Mix', 'Tixocortal-21-Pivalate', 'Toluenesulfonamide Fluoraldehyde Resin', 'Wool Alchohol', 'Ylang Ylang Oil']\n"
     ]
    }
   ],
   "execution_count": 238
  },
  {
   "metadata": {
    "ExecuteTime": {
     "end_time": "2025-04-13T01:50:44.260199Z",
     "start_time": "2025-04-13T01:50:44.253854Z"
    }
   },
   "cell_type": "code",
   "source": [
    "#Read in the products\n",
    "products = pd.read_csv('sephora_scraper/products_small_batch.csv')\n",
    "products.head(5)"
   ],
   "id": "b0d3c3052456c3fe",
   "outputs": [
    {
     "data": {
      "text/plain": [
       "                                        Product Name  \\\n",
       "0                                     Summer Fridays   \n",
       "1                                          Dr. Jart+   \n",
       "2  Zari Eyes Long-Lasting Crease-Proof Cream Eyes...   \n",
       "3                                     Drunk Elephant   \n",
       "4                                 Kiehl's Since 1851   \n",
       "\n",
       "                                               Brand  \\\n",
       "0              Lip Butter Balm for Hydration & Shine   \n",
       "1  Premium BB Tinted Moisturizer with Niacinamide...   \n",
       "2                                              Kulfi   \n",
       "3           T.L.C. Sukari Babyfacial™ AHA + BHA Mask   \n",
       "4  Ultra Facial Refillable Moisturizing Cream wit...   \n",
       "\n",
       "                                         Ingredients  \n",
       "0  Phytosteryl/Isostearyl/Cetyl/Stearyl/Behenyl D...  \n",
       "1  WATER/AQUA/EAU, CYCLOPENTASILOXANE, CYCLOHEXAS...  \n",
       "2  Isododecane, Mica, Silica, Trimethylsiloxysili...  \n",
       "3  Water, Glycolic Acid, Hydroxyethyl Acrylate/So...  \n",
       "4  Aqua / Water , Glycerin , Dimethicone , Squala...  "
      ],
      "text/html": [
       "<div>\n",
       "<style scoped>\n",
       "    .dataframe tbody tr th:only-of-type {\n",
       "        vertical-align: middle;\n",
       "    }\n",
       "\n",
       "    .dataframe tbody tr th {\n",
       "        vertical-align: top;\n",
       "    }\n",
       "\n",
       "    .dataframe thead th {\n",
       "        text-align: right;\n",
       "    }\n",
       "</style>\n",
       "<table border=\"1\" class=\"dataframe\">\n",
       "  <thead>\n",
       "    <tr style=\"text-align: right;\">\n",
       "      <th></th>\n",
       "      <th>Product Name</th>\n",
       "      <th>Brand</th>\n",
       "      <th>Ingredients</th>\n",
       "    </tr>\n",
       "  </thead>\n",
       "  <tbody>\n",
       "    <tr>\n",
       "      <th>0</th>\n",
       "      <td>Summer Fridays</td>\n",
       "      <td>Lip Butter Balm for Hydration &amp; Shine</td>\n",
       "      <td>Phytosteryl/Isostearyl/Cetyl/Stearyl/Behenyl D...</td>\n",
       "    </tr>\n",
       "    <tr>\n",
       "      <th>1</th>\n",
       "      <td>Dr. Jart+</td>\n",
       "      <td>Premium BB Tinted Moisturizer with Niacinamide...</td>\n",
       "      <td>WATER/AQUA/EAU, CYCLOPENTASILOXANE, CYCLOHEXAS...</td>\n",
       "    </tr>\n",
       "    <tr>\n",
       "      <th>2</th>\n",
       "      <td>Zari Eyes Long-Lasting Crease-Proof Cream Eyes...</td>\n",
       "      <td>Kulfi</td>\n",
       "      <td>Isododecane, Mica, Silica, Trimethylsiloxysili...</td>\n",
       "    </tr>\n",
       "    <tr>\n",
       "      <th>3</th>\n",
       "      <td>Drunk Elephant</td>\n",
       "      <td>T.L.C. Sukari Babyfacial™ AHA + BHA Mask</td>\n",
       "      <td>Water, Glycolic Acid, Hydroxyethyl Acrylate/So...</td>\n",
       "    </tr>\n",
       "    <tr>\n",
       "      <th>4</th>\n",
       "      <td>Kiehl's Since 1851</td>\n",
       "      <td>Ultra Facial Refillable Moisturizing Cream wit...</td>\n",
       "      <td>Aqua / Water , Glycerin , Dimethicone , Squala...</td>\n",
       "    </tr>\n",
       "  </tbody>\n",
       "</table>\n",
       "</div>"
      ]
     },
     "execution_count": 239,
     "metadata": {},
     "output_type": "execute_result"
    }
   ],
   "execution_count": 239
  },
  {
   "metadata": {
    "ExecuteTime": {
     "end_time": "2025-04-13T01:50:45.104890Z",
     "start_time": "2025-04-13T01:50:45.097892Z"
    }
   },
   "cell_type": "code",
   "source": [
    "#Lowercase the ingredients list and take a peek \n",
    "products['Ingredients'] = products.Ingredients.str.lower()\n",
    "products.head(10)"
   ],
   "id": "54026746c9e8ae72",
   "outputs": [
    {
     "data": {
      "text/plain": [
       "                                        Product Name  \\\n",
       "0                                     Summer Fridays   \n",
       "1                                          Dr. Jart+   \n",
       "2  Zari Eyes Long-Lasting Crease-Proof Cream Eyes...   \n",
       "3                                     Drunk Elephant   \n",
       "4                                 Kiehl's Since 1851   \n",
       "5                                    Tower 28 Beauty   \n",
       "6                                     Sol de Janeiro   \n",
       "7                                               NARS   \n",
       "8                                         Patrick Ta   \n",
       "\n",
       "                                               Brand  \\\n",
       "0              Lip Butter Balm for Hydration & Shine   \n",
       "1  Premium BB Tinted Moisturizer with Niacinamide...   \n",
       "2                                              Kulfi   \n",
       "3           T.L.C. Sukari Babyfacial™ AHA + BHA Mask   \n",
       "4  Ultra Facial Refillable Moisturizing Cream wit...   \n",
       "5         MakeWaves Lengthening + Volumizing Mascara   \n",
       "6       Cheirosa 62 Bum Bum Hair & Body Perfume Mist   \n",
       "7  Soft Matte Complete Full Coverage Longwear Con...   \n",
       "8  Major Skin Hydra-Luxe Luminous Skin Perfecting...   \n",
       "\n",
       "                                         Ingredients  \n",
       "0  phytosteryl/isostearyl/cetyl/stearyl/behenyl d...  \n",
       "1  water/aqua/eau, cyclopentasiloxane, cyclohexas...  \n",
       "2  isododecane, mica, silica, trimethylsiloxysili...  \n",
       "3  water, glycolic acid, hydroxyethyl acrylate/so...  \n",
       "4  aqua / water , glycerin , dimethicone , squala...  \n",
       "5  water/aqua/eau, copernicia cerifera (carnauba)...  \n",
       "6  alcohol denat., aqua (water, eau), parfum (fra...  \n",
       "7  orthesin, dimethicone, water, glycerin, butyle...  \n",
       "8  cananga oil, water (aqua, eau), glycerin, ison...  "
      ],
      "text/html": [
       "<div>\n",
       "<style scoped>\n",
       "    .dataframe tbody tr th:only-of-type {\n",
       "        vertical-align: middle;\n",
       "    }\n",
       "\n",
       "    .dataframe tbody tr th {\n",
       "        vertical-align: top;\n",
       "    }\n",
       "\n",
       "    .dataframe thead th {\n",
       "        text-align: right;\n",
       "    }\n",
       "</style>\n",
       "<table border=\"1\" class=\"dataframe\">\n",
       "  <thead>\n",
       "    <tr style=\"text-align: right;\">\n",
       "      <th></th>\n",
       "      <th>Product Name</th>\n",
       "      <th>Brand</th>\n",
       "      <th>Ingredients</th>\n",
       "    </tr>\n",
       "  </thead>\n",
       "  <tbody>\n",
       "    <tr>\n",
       "      <th>0</th>\n",
       "      <td>Summer Fridays</td>\n",
       "      <td>Lip Butter Balm for Hydration &amp; Shine</td>\n",
       "      <td>phytosteryl/isostearyl/cetyl/stearyl/behenyl d...</td>\n",
       "    </tr>\n",
       "    <tr>\n",
       "      <th>1</th>\n",
       "      <td>Dr. Jart+</td>\n",
       "      <td>Premium BB Tinted Moisturizer with Niacinamide...</td>\n",
       "      <td>water/aqua/eau, cyclopentasiloxane, cyclohexas...</td>\n",
       "    </tr>\n",
       "    <tr>\n",
       "      <th>2</th>\n",
       "      <td>Zari Eyes Long-Lasting Crease-Proof Cream Eyes...</td>\n",
       "      <td>Kulfi</td>\n",
       "      <td>isododecane, mica, silica, trimethylsiloxysili...</td>\n",
       "    </tr>\n",
       "    <tr>\n",
       "      <th>3</th>\n",
       "      <td>Drunk Elephant</td>\n",
       "      <td>T.L.C. Sukari Babyfacial™ AHA + BHA Mask</td>\n",
       "      <td>water, glycolic acid, hydroxyethyl acrylate/so...</td>\n",
       "    </tr>\n",
       "    <tr>\n",
       "      <th>4</th>\n",
       "      <td>Kiehl's Since 1851</td>\n",
       "      <td>Ultra Facial Refillable Moisturizing Cream wit...</td>\n",
       "      <td>aqua / water , glycerin , dimethicone , squala...</td>\n",
       "    </tr>\n",
       "    <tr>\n",
       "      <th>5</th>\n",
       "      <td>Tower 28 Beauty</td>\n",
       "      <td>MakeWaves Lengthening + Volumizing Mascara</td>\n",
       "      <td>water/aqua/eau, copernicia cerifera (carnauba)...</td>\n",
       "    </tr>\n",
       "    <tr>\n",
       "      <th>6</th>\n",
       "      <td>Sol de Janeiro</td>\n",
       "      <td>Cheirosa 62 Bum Bum Hair &amp; Body Perfume Mist</td>\n",
       "      <td>alcohol denat., aqua (water, eau), parfum (fra...</td>\n",
       "    </tr>\n",
       "    <tr>\n",
       "      <th>7</th>\n",
       "      <td>NARS</td>\n",
       "      <td>Soft Matte Complete Full Coverage Longwear Con...</td>\n",
       "      <td>orthesin, dimethicone, water, glycerin, butyle...</td>\n",
       "    </tr>\n",
       "    <tr>\n",
       "      <th>8</th>\n",
       "      <td>Patrick Ta</td>\n",
       "      <td>Major Skin Hydra-Luxe Luminous Skin Perfecting...</td>\n",
       "      <td>cananga oil, water (aqua, eau), glycerin, ison...</td>\n",
       "    </tr>\n",
       "  </tbody>\n",
       "</table>\n",
       "</div>"
      ]
     },
     "execution_count": 240,
     "metadata": {},
     "output_type": "execute_result"
    }
   ],
   "execution_count": 240
  },
  {
   "metadata": {
    "ExecuteTime": {
     "end_time": "2025-04-13T01:50:45.977645Z",
     "start_time": "2025-04-13T01:50:45.973306Z"
    }
   },
   "cell_type": "code",
   "source": [
    "#Actually convert it to a list and flatten \n",
    "allergens['Synonyms'] = allergens['Synonyms'].apply(smart_split)\n",
    "allergen_synonyms = [item for sublist in allergens['Synonyms'] for item in sublist]\n",
    "allergen_synonyms = [i.lower().strip() for i in allergen_synonyms if len(i) > 2]"
   ],
   "id": "e8d8a42111eb0d67",
   "outputs": [],
   "execution_count": 241
  },
  {
   "metadata": {
    "ExecuteTime": {
     "end_time": "2025-04-13T01:50:46.945033Z",
     "start_time": "2025-04-13T01:50:46.942194Z"
    }
   },
   "cell_type": "code",
   "source": [
    "#Remove some garbage\n",
    "stop_phrases = [\"possible occupational exposure\", \"cement workers\", \"potters\", \"artists\", \"nurses\", \"laboratory technologists\"]\n",
    "allergen_synonyms = [i for i in allergen_synonyms if not any(stop in i for stop in stop_phrases)]"
   ],
   "id": "4b18677e6a40c997",
   "outputs": [],
   "execution_count": 242
  },
  {
   "metadata": {
    "ExecuteTime": {
     "end_time": "2025-04-13T01:50:48.533668Z",
     "start_time": "2025-04-13T01:50:48.531043Z"
    }
   },
   "cell_type": "code",
   "source": [
    "#Better to do it as list comprehension in case we encounter NAs \n",
    "#products['ingred_list'] = products['Ingredients'].str.split(',')\n",
    "#products['ingred_list'] = [x.split(',') for x in products['Ingredients']]\n",
    "#products['ingred_list'] = products['Ingredients'].apply(lambda x: [i.strip() for i in x.split(',')])\n",
    "\n",
    "#Due to complexity in ingredient names, we have to pivot and define a function\n",
    "def match_ingredients(text):\n",
    "    matches = [allergen for allergen in allergen_synonyms if allergen in text]\n",
    "    return matches"
   ],
   "id": "f0db9e19be147866",
   "outputs": [],
   "execution_count": 243
  },
  {
   "metadata": {
    "ExecuteTime": {
     "end_time": "2025-04-13T01:50:49.434836Z",
     "start_time": "2025-04-13T01:50:49.427856Z"
    }
   },
   "cell_type": "code",
   "source": "products['matched_allergens'] = products['Ingredients'].apply(match_ingredients)",
   "id": "68bbb5d494cb36aa",
   "outputs": [],
   "execution_count": 244
  },
  {
   "metadata": {
    "ExecuteTime": {
     "end_time": "2025-04-13T01:50:50.383717Z",
     "start_time": "2025-04-13T01:50:50.380879Z"
    }
   },
   "cell_type": "code",
   "source": "products['matched_allergens']",
   "id": "51493f8a0c861a65",
   "outputs": [
    {
     "data": {
      "text/plain": [
       "0                             [tocopherol, tocopherol]\n",
       "1    [tocopherol, tocopherol, phenoxyethanol, propy...\n",
       "2             [tocopherol, tocopherol, phenoxyethanol]\n",
       "3                     [ethyl acrylate, phenoxyethanol]\n",
       "4             [tocopherol, tocopherol, phenoxyethanol]\n",
       "5                             [tocopherol, tocopherol]\n",
       "6                                                   []\n",
       "7    [tocopherol, tocopherol, orthesin, phenoxyetha...\n",
       "8    [tocopherol, tocopherol, phenoxyethanol, canan...\n",
       "Name: matched_allergens, dtype: object"
      ]
     },
     "execution_count": 246,
     "metadata": {},
     "output_type": "execute_result"
    }
   ],
   "execution_count": 246
  },
  {
   "metadata": {},
   "cell_type": "code",
   "outputs": [],
   "execution_count": null,
   "source": "",
   "id": "15051c83f9a37299"
  }
 ],
 "metadata": {
  "kernelspec": {
   "display_name": "Python 3",
   "language": "python",
   "name": "python3"
  },
  "language_info": {
   "codemirror_mode": {
    "name": "ipython",
    "version": 2
   },
   "file_extension": ".py",
   "mimetype": "text/x-python",
   "name": "python",
   "nbconvert_exporter": "python",
   "pygments_lexer": "ipython2",
   "version": "2.7.6"
  }
 },
 "nbformat": 4,
 "nbformat_minor": 5
}
